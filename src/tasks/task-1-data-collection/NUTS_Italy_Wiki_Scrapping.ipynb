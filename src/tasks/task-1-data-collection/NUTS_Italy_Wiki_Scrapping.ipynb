{
 "cells": [
  {
   "cell_type": "markdown",
   "id": "37056559-462c-44b0-ad02-ac6f168156a1",
   "metadata": {},
   "source": [
    "# [NUTS statistical regions of Italy](https://en.wikipedia.org/wiki/NUTS_statistical_regions_of_Italy)"
   ]
  },
  {
   "cell_type": "markdown",
   "id": "83dd54f2-1a09-4daf-8f25-b5e6b5fed7a6",
   "metadata": {
    "tags": []
   },
   "source": [
    "## Importing libraries"
   ]
  },
  {
   "cell_type": "code",
   "execution_count": 1,
   "id": "426913f8-705c-4691-bc88-3f4eb397a128",
   "metadata": {
    "tags": []
   },
   "outputs": [],
   "source": [
    "import numpy as np\n",
    "import pandas as pd\n",
    "from tqdm import tqdm\n",
    "\n",
    "from time import sleep\n",
    "\n",
    "import requests\n",
    "from bs4 import BeautifulSoup as sp"
   ]
  },
  {
   "cell_type": "markdown",
   "id": "40189cee-965b-4db2-8775-4c28342be8de",
   "metadata": {},
   "source": [
    "## Fetching the table and links"
   ]
  },
  {
   "cell_type": "code",
   "execution_count": 2,
   "id": "6ff759c5-cf04-4b26-879d-0fa5fc42ee10",
   "metadata": {
    "tags": []
   },
   "outputs": [],
   "source": [
    "url = 'https://en.wikipedia.org/wiki/NUTS_statistical_regions_of_Italy'"
   ]
  },
  {
   "cell_type": "code",
   "execution_count": 3,
   "id": "87897b50-b7d6-4b35-82df-026ce23d9b29",
   "metadata": {
    "tags": []
   },
   "outputs": [
    {
     "data": {
      "text/plain": [
       "<Response [200]>"
      ]
     },
     "execution_count": 3,
     "metadata": {},
     "output_type": "execute_result"
    }
   ],
   "source": [
    "r = requests.get(url)\n",
    "r"
   ]
  },
  {
   "cell_type": "code",
   "execution_count": 4,
   "id": "48b85a1f-da5f-44c8-8d0d-a3c162d90118",
   "metadata": {
    "tags": []
   },
   "outputs": [],
   "source": [
    "soup = sp(r.content, 'lxml')"
   ]
  },
  {
   "cell_type": "code",
   "execution_count": 5,
   "id": "7fca37a8-b1a4-48e1-b67c-ce86f23e6e0b",
   "metadata": {
    "tags": []
   },
   "outputs": [],
   "source": [
    "table = soup.find('div', {'class' : 'mw-parser-output'}).find_all('table')[1]"
   ]
  },
  {
   "cell_type": "code",
   "execution_count": 6,
   "id": "b084d4a8-0d8a-4c04-bc80-d9ec7475acd3",
   "metadata": {},
   "outputs": [
    {
     "data": {
      "text/html": [
       "<div>\n",
       "<style scoped>\n",
       "    .dataframe tbody tr th:only-of-type {\n",
       "        vertical-align: middle;\n",
       "    }\n",
       "\n",
       "    .dataframe tbody tr th {\n",
       "        vertical-align: top;\n",
       "    }\n",
       "\n",
       "    .dataframe thead th {\n",
       "        text-align: right;\n",
       "    }\n",
       "</style>\n",
       "<table border=\"1\" class=\"dataframe\">\n",
       "  <thead>\n",
       "    <tr style=\"text-align: right;\">\n",
       "      <th></th>\n",
       "      <th>NUTS_1</th>\n",
       "      <th>Code_1</th>\n",
       "      <th>NUTS_2</th>\n",
       "      <th>Code_2</th>\n",
       "      <th>NUTS_3</th>\n",
       "      <th>Code_3</th>\n",
       "      <th>NUTS_2_Link</th>\n",
       "      <th>NUTS_3_Link</th>\n",
       "    </tr>\n",
       "  </thead>\n",
       "  <tbody>\n",
       "    <tr>\n",
       "      <th>0</th>\n",
       "      <td>Northwest Italy</td>\n",
       "      <td>ITC</td>\n",
       "      <td>Piemonte</td>\n",
       "      <td>ITC1</td>\n",
       "      <td>Torino</td>\n",
       "      <td>ITC11</td>\n",
       "      <td>/wiki/File:Flag_of_Piedmont.svg</td>\n",
       "      <td>/wiki/File:Flag_of_the_Province_of_Turin.svg</td>\n",
       "    </tr>\n",
       "    <tr>\n",
       "      <th>1</th>\n",
       "      <td>NaN</td>\n",
       "      <td>NaN</td>\n",
       "      <td>NaN</td>\n",
       "      <td>NaN</td>\n",
       "      <td>Vercelli</td>\n",
       "      <td>ITC12</td>\n",
       "      <td>NaN</td>\n",
       "      <td>/wiki/File:Image_unavailable.png</td>\n",
       "    </tr>\n",
       "    <tr>\n",
       "      <th>2</th>\n",
       "      <td>NaN</td>\n",
       "      <td>NaN</td>\n",
       "      <td>NaN</td>\n",
       "      <td>NaN</td>\n",
       "      <td>Biella</td>\n",
       "      <td>ITC13</td>\n",
       "      <td>NaN</td>\n",
       "      <td>/wiki/File:Image_unavailable.png</td>\n",
       "    </tr>\n",
       "    <tr>\n",
       "      <th>3</th>\n",
       "      <td>NaN</td>\n",
       "      <td>NaN</td>\n",
       "      <td>NaN</td>\n",
       "      <td>NaN</td>\n",
       "      <td>Verbano-Cusio-Ossola</td>\n",
       "      <td>ITC14</td>\n",
       "      <td>NaN</td>\n",
       "      <td>/wiki/File:Flag_of_the_Province_of_Verbano-Cus...</td>\n",
       "    </tr>\n",
       "    <tr>\n",
       "      <th>4</th>\n",
       "      <td>NaN</td>\n",
       "      <td>NaN</td>\n",
       "      <td>NaN</td>\n",
       "      <td>NaN</td>\n",
       "      <td>Novara</td>\n",
       "      <td>ITC15</td>\n",
       "      <td>NaN</td>\n",
       "      <td>/wiki/File:Flag_of_the_Province_of_Novara.gif</td>\n",
       "    </tr>\n",
       "  </tbody>\n",
       "</table>\n",
       "</div>"
      ],
      "text/plain": [
       "            NUTS_1 Code_1    NUTS_2 Code_2                NUTS_3 Code_3   \n",
       "0  Northwest Italy    ITC  Piemonte   ITC1                Torino  ITC11  \\\n",
       "1              NaN    NaN       NaN    NaN              Vercelli  ITC12   \n",
       "2              NaN    NaN       NaN    NaN                Biella  ITC13   \n",
       "3              NaN    NaN       NaN    NaN  Verbano-Cusio-Ossola  ITC14   \n",
       "4              NaN    NaN       NaN    NaN                Novara  ITC15   \n",
       "\n",
       "                       NUTS_2_Link   \n",
       "0  /wiki/File:Flag_of_Piedmont.svg  \\\n",
       "1                              NaN   \n",
       "2                              NaN   \n",
       "3                              NaN   \n",
       "4                              NaN   \n",
       "\n",
       "                                         NUTS_3_Link  \n",
       "0       /wiki/File:Flag_of_the_Province_of_Turin.svg  \n",
       "1                   /wiki/File:Image_unavailable.png  \n",
       "2                   /wiki/File:Image_unavailable.png  \n",
       "3  /wiki/File:Flag_of_the_Province_of_Verbano-Cus...  \n",
       "4      /wiki/File:Flag_of_the_Province_of_Novara.gif  "
      ]
     },
     "execution_count": 6,
     "metadata": {},
     "output_type": "execute_result"
    }
   ],
   "source": [
    "df = pd.DataFrame(columns = ['NUTS_1', 'Code_1', 'NUTS_2', 'Code_2', 'NUTS_3', 'Code_3', 'NUTS_2_Link', 'NUTS_3_Link'])\n",
    "\n",
    "for idx, rows in enumerate(table.find_all('tr')):\n",
    "    if idx != 0:\n",
    "        if len(rows.find_all('td')) == 6:\n",
    "            tetx_list, links_list = [], []\n",
    "            \n",
    "            for txt in rows.find_all('td'):\n",
    "                tetx_list.append(txt.text.strip())\n",
    "            for links in rows.find_all('a'):\n",
    "                links_list.append(links['href'])\n",
    "            tetx_list.extend([links_list[1], links_list[-2]])\n",
    "            df.loc[len(df)] = tetx_list\n",
    "            \n",
    "        if len(rows.find_all('td')) == 2:\n",
    "            tetx_list, links_list = [np.nan, np.nan, np.nan, np.nan], []\n",
    "            \n",
    "            for txt in rows.find_all('td'):\n",
    "                tetx_list.append(txt.text.strip())\n",
    "            for links in rows.find_all('a'):\n",
    "                links_list.append(links['href'])\n",
    "            tetx_list.extend([np.nan, links_list[0]])\n",
    "            df.loc[len(df)] = tetx_list\n",
    "            \n",
    "        if len(rows.find_all('td')) == 4:\n",
    "            tetx_list, links_list = [np.nan, np.nan], []\n",
    "            \n",
    "            for txt in rows.find_all('td'):\n",
    "                tetx_list.append(txt.text.strip())\n",
    "            for links in rows.find_all('a'):\n",
    "                links_list.append(links['href'])\n",
    "            tetx_list.extend([links_list[0], links_list[-2]])\n",
    "            df.loc[len(df)] = tetx_list\n",
    "\n",
    "df.head(5)"
   ]
  },
  {
   "cell_type": "code",
   "execution_count": 7,
   "id": "4df24aed-f4aa-44e7-aad5-611a8299af02",
   "metadata": {
    "tags": []
   },
   "outputs": [
    {
     "data": {
      "text/html": [
       "<div>\n",
       "<style scoped>\n",
       "    .dataframe tbody tr th:only-of-type {\n",
       "        vertical-align: middle;\n",
       "    }\n",
       "\n",
       "    .dataframe tbody tr th {\n",
       "        vertical-align: top;\n",
       "    }\n",
       "\n",
       "    .dataframe thead th {\n",
       "        text-align: right;\n",
       "    }\n",
       "</style>\n",
       "<table border=\"1\" class=\"dataframe\">\n",
       "  <thead>\n",
       "    <tr style=\"text-align: right;\">\n",
       "      <th></th>\n",
       "      <th>NUTS_1</th>\n",
       "      <th>Code_1</th>\n",
       "      <th>NUTS_2</th>\n",
       "      <th>Code_2</th>\n",
       "      <th>NUTS_3</th>\n",
       "      <th>Code_3</th>\n",
       "      <th>NUTS_2_Link</th>\n",
       "      <th>NUTS_3_Link</th>\n",
       "    </tr>\n",
       "  </thead>\n",
       "  <tbody>\n",
       "    <tr>\n",
       "      <th>0</th>\n",
       "      <td>Northwest Italy</td>\n",
       "      <td>ITC</td>\n",
       "      <td>Piemonte</td>\n",
       "      <td>ITC1</td>\n",
       "      <td>Torino</td>\n",
       "      <td>ITC11</td>\n",
       "      <td>https://en.wikipedia.org//wiki/File:Flag_of_Pi...</td>\n",
       "      <td>https://en.wikipedia.org//wiki/File:Flag_of_th...</td>\n",
       "    </tr>\n",
       "    <tr>\n",
       "      <th>1</th>\n",
       "      <td>Northwest Italy</td>\n",
       "      <td>ITC</td>\n",
       "      <td>Piemonte</td>\n",
       "      <td>ITC1</td>\n",
       "      <td>Vercelli</td>\n",
       "      <td>ITC12</td>\n",
       "      <td>https://en.wikipedia.org//wiki/File:Flag_of_Pi...</td>\n",
       "      <td>https://en.wikipedia.org//wiki/File:Image_unav...</td>\n",
       "    </tr>\n",
       "    <tr>\n",
       "      <th>2</th>\n",
       "      <td>Northwest Italy</td>\n",
       "      <td>ITC</td>\n",
       "      <td>Piemonte</td>\n",
       "      <td>ITC1</td>\n",
       "      <td>Biella</td>\n",
       "      <td>ITC13</td>\n",
       "      <td>https://en.wikipedia.org//wiki/File:Flag_of_Pi...</td>\n",
       "      <td>https://en.wikipedia.org//wiki/File:Image_unav...</td>\n",
       "    </tr>\n",
       "    <tr>\n",
       "      <th>3</th>\n",
       "      <td>Northwest Italy</td>\n",
       "      <td>ITC</td>\n",
       "      <td>Piemonte</td>\n",
       "      <td>ITC1</td>\n",
       "      <td>Verbano-Cusio-Ossola</td>\n",
       "      <td>ITC14</td>\n",
       "      <td>https://en.wikipedia.org//wiki/File:Flag_of_Pi...</td>\n",
       "      <td>https://en.wikipedia.org//wiki/File:Flag_of_th...</td>\n",
       "    </tr>\n",
       "    <tr>\n",
       "      <th>4</th>\n",
       "      <td>Northwest Italy</td>\n",
       "      <td>ITC</td>\n",
       "      <td>Piemonte</td>\n",
       "      <td>ITC1</td>\n",
       "      <td>Novara</td>\n",
       "      <td>ITC15</td>\n",
       "      <td>https://en.wikipedia.org//wiki/File:Flag_of_Pi...</td>\n",
       "      <td>https://en.wikipedia.org//wiki/File:Flag_of_th...</td>\n",
       "    </tr>\n",
       "  </tbody>\n",
       "</table>\n",
       "</div>"
      ],
      "text/plain": [
       "            NUTS_1 Code_1    NUTS_2 Code_2                NUTS_3 Code_3   \n",
       "0  Northwest Italy    ITC  Piemonte   ITC1                Torino  ITC11  \\\n",
       "1  Northwest Italy    ITC  Piemonte   ITC1              Vercelli  ITC12   \n",
       "2  Northwest Italy    ITC  Piemonte   ITC1                Biella  ITC13   \n",
       "3  Northwest Italy    ITC  Piemonte   ITC1  Verbano-Cusio-Ossola  ITC14   \n",
       "4  Northwest Italy    ITC  Piemonte   ITC1                Novara  ITC15   \n",
       "\n",
       "                                         NUTS_2_Link   \n",
       "0  https://en.wikipedia.org//wiki/File:Flag_of_Pi...  \\\n",
       "1  https://en.wikipedia.org//wiki/File:Flag_of_Pi...   \n",
       "2  https://en.wikipedia.org//wiki/File:Flag_of_Pi...   \n",
       "3  https://en.wikipedia.org//wiki/File:Flag_of_Pi...   \n",
       "4  https://en.wikipedia.org//wiki/File:Flag_of_Pi...   \n",
       "\n",
       "                                         NUTS_3_Link  \n",
       "0  https://en.wikipedia.org//wiki/File:Flag_of_th...  \n",
       "1  https://en.wikipedia.org//wiki/File:Image_unav...  \n",
       "2  https://en.wikipedia.org//wiki/File:Image_unav...  \n",
       "3  https://en.wikipedia.org//wiki/File:Flag_of_th...  \n",
       "4  https://en.wikipedia.org//wiki/File:Flag_of_th...  "
      ]
     },
     "execution_count": 7,
     "metadata": {},
     "output_type": "execute_result"
    }
   ],
   "source": [
    "df = df.ffill().copy()\n",
    "\n",
    "BASE_URL = 'https://en.wikipedia.org/'\n",
    "df.NUTS_2_Link = BASE_URL + df.NUTS_2_Link.map(str)\n",
    "df.NUTS_3_Link = BASE_URL + df.NUTS_3_Link.map(str)\n",
    "\n",
    "df.head()"
   ]
  },
  {
   "cell_type": "markdown",
   "id": "5e2f4538-5858-43a4-853e-1309d8862237",
   "metadata": {},
   "source": [
    "## Fetching downloadable image urls"
   ]
  },
  {
   "cell_type": "code",
   "execution_count": 8,
   "id": "ae83b411-e3d6-4206-995f-11cf7edd4ea0",
   "metadata": {
    "tags": []
   },
   "outputs": [
    {
     "name": "stderr",
     "output_type": "stream",
     "text": [
      "100%|███████████████████████████████████████████| 20/20 [01:08<00:00,  3.41s/it]\n"
     ]
    }
   ],
   "source": [
    "NUTS_2_df = pd.DataFrame(columns = ['NUTS_2_Link', 'NUTS_2_Images'])\n",
    "for link in tqdm(df.NUTS_2_Link.unique()):\n",
    "    r = requests.get(link)\n",
    "    soup = sp(r.content, 'lxml')\n",
    "    try:\n",
    "        img_link  = 'https:' + soup.find('div', {'class' : 'fullImageLink'}).find('a')['href']\n",
    "    except:\n",
    "        img_link = np.nan\n",
    "    NUTS_2_df.loc[len(NUTS_2_df)] = [link, img_link]\n",
    "    sleep(3)"
   ]
  },
  {
   "cell_type": "code",
   "execution_count": 9,
   "id": "b778406e-b0bc-4136-ab43-cb39d9a6f5ac",
   "metadata": {
    "tags": []
   },
   "outputs": [
    {
     "name": "stderr",
     "output_type": "stream",
     "text": [
      "100%|███████████████████████████████████████████| 94/94 [05:22<00:00,  3.43s/it]\n"
     ]
    }
   ],
   "source": [
    "NUTS_3_df = pd.DataFrame(columns = ['NUTS_3_Link', 'NUTS_3_Images'])\n",
    "for link in tqdm(df.NUTS_3_Link.unique()):\n",
    "    r = requests.get(link)\n",
    "    soup = sp(r.content, 'lxml')\n",
    "    try:\n",
    "        img_link  = 'https:' + soup.find('div', {'class' : 'fullImageLink'}).find('a')['href']\n",
    "    except:\n",
    "        img_link = np.nan\n",
    "    NUTS_3_df.loc[len(NUTS_3_df)] = [link, img_link]\n",
    "    sleep(3)"
   ]
  },
  {
   "cell_type": "markdown",
   "id": "ff4f513a-2952-4310-b514-7c5f9a15c1ba",
   "metadata": {},
   "source": [
    "## Merging image links to the table dataframe"
   ]
  },
  {
   "cell_type": "code",
   "execution_count": 10,
   "id": "314b42aa-5471-4ab9-9932-22b4a359c96d",
   "metadata": {
    "tags": []
   },
   "outputs": [],
   "source": [
    "df = df.merge(NUTS_2_df, how = 'right').copy()"
   ]
  },
  {
   "cell_type": "code",
   "execution_count": 11,
   "id": "6c54116e-fa43-4b12-82f8-9536fadfd597",
   "metadata": {
    "tags": []
   },
   "outputs": [],
   "source": [
    "df = df.merge(NUTS_3_df, how = 'right').copy()"
   ]
  },
  {
   "cell_type": "markdown",
   "id": "02323333-8c48-449b-8b28-f393dd3b451c",
   "metadata": {},
   "source": [
    "## Filling missing values manually"
   ]
  },
  {
   "cell_type": "code",
   "execution_count": 12,
   "id": "15a9342b-90a8-409b-9750-27890eccb73e",
   "metadata": {
    "tags": []
   },
   "outputs": [
    {
     "data": {
      "text/html": [
       "<div>\n",
       "<style scoped>\n",
       "    .dataframe tbody tr th:only-of-type {\n",
       "        vertical-align: middle;\n",
       "    }\n",
       "\n",
       "    .dataframe tbody tr th {\n",
       "        vertical-align: top;\n",
       "    }\n",
       "\n",
       "    .dataframe thead th {\n",
       "        text-align: right;\n",
       "    }\n",
       "</style>\n",
       "<table border=\"1\" class=\"dataframe\">\n",
       "  <thead>\n",
       "    <tr style=\"text-align: right;\">\n",
       "      <th></th>\n",
       "      <th>NUTS_1</th>\n",
       "      <th>Code_1</th>\n",
       "      <th>NUTS_2</th>\n",
       "      <th>Code_2</th>\n",
       "      <th>NUTS_3</th>\n",
       "      <th>Code_3</th>\n",
       "      <th>NUTS_2_Link</th>\n",
       "      <th>NUTS_3_Link</th>\n",
       "      <th>NUTS_2_Images</th>\n",
       "      <th>NUTS_3_Images</th>\n",
       "    </tr>\n",
       "  </thead>\n",
       "  <tbody>\n",
       "    <tr>\n",
       "      <th>71</th>\n",
       "      <td>Northeast Italy</td>\n",
       "      <td>ITH</td>\n",
       "      <td>Veneto</td>\n",
       "      <td>ITH3</td>\n",
       "      <td>Belluno</td>\n",
       "      <td>ITH33</td>\n",
       "      <td>https://en.wikipedia.org//wiki/File:Flag_of_Ve...</td>\n",
       "      <td>https://en.wikipedia.org//wiki/Province_of_Bel...</td>\n",
       "      <td>https://upload.wikimedia.org/wikipedia/commons...</td>\n",
       "      <td>NaN</td>\n",
       "    </tr>\n",
       "    <tr>\n",
       "      <th>79</th>\n",
       "      <td>Northeast Italy</td>\n",
       "      <td>ITH</td>\n",
       "      <td>Friuli-Venezia Giulia</td>\n",
       "      <td>ITH4</td>\n",
       "      <td>Trieste</td>\n",
       "      <td>ITH44</td>\n",
       "      <td>https://en.wikipedia.org//wiki/File:Flag_of_Fr...</td>\n",
       "      <td>https://en.wikipedia.org//wiki/Province_of_Tri...</td>\n",
       "      <td>https://upload.wikimedia.org/wikipedia/commons...</td>\n",
       "      <td>NaN</td>\n",
       "    </tr>\n",
       "  </tbody>\n",
       "</table>\n",
       "</div>"
      ],
      "text/plain": [
       "             NUTS_1 Code_1                 NUTS_2 Code_2   NUTS_3 Code_3   \n",
       "71  Northeast Italy    ITH                 Veneto   ITH3  Belluno  ITH33  \\\n",
       "79  Northeast Italy    ITH  Friuli-Venezia Giulia   ITH4  Trieste  ITH44   \n",
       "\n",
       "                                          NUTS_2_Link   \n",
       "71  https://en.wikipedia.org//wiki/File:Flag_of_Ve...  \\\n",
       "79  https://en.wikipedia.org//wiki/File:Flag_of_Fr...   \n",
       "\n",
       "                                          NUTS_3_Link   \n",
       "71  https://en.wikipedia.org//wiki/Province_of_Bel...  \\\n",
       "79  https://en.wikipedia.org//wiki/Province_of_Tri...   \n",
       "\n",
       "                                        NUTS_2_Images NUTS_3_Images  \n",
       "71  https://upload.wikimedia.org/wikipedia/commons...           NaN  \n",
       "79  https://upload.wikimedia.org/wikipedia/commons...           NaN  "
      ]
     },
     "execution_count": 12,
     "metadata": {},
     "output_type": "execute_result"
    }
   ],
   "source": [
    "df[df.isnull().any(axis = 1)]"
   ]
  },
  {
   "cell_type": "code",
   "execution_count": 13,
   "id": "e9829e2e-fa68-4887-8de5-038976c92ea6",
   "metadata": {
    "tags": []
   },
   "outputs": [],
   "source": [
    "df.loc[71].NUTS_3_Images = 'https://upload.wikimedia.org/wikipedia/en/6/65/Provincia_di_Belluno-Stemma.png'"
   ]
  },
  {
   "cell_type": "code",
   "execution_count": 14,
   "id": "6bab315e-9c7f-4e0d-bf64-0ca421ec4d62",
   "metadata": {
    "tags": []
   },
   "outputs": [
    {
     "data": {
      "text/html": [
       "<div>\n",
       "<style scoped>\n",
       "    .dataframe tbody tr th:only-of-type {\n",
       "        vertical-align: middle;\n",
       "    }\n",
       "\n",
       "    .dataframe tbody tr th {\n",
       "        vertical-align: top;\n",
       "    }\n",
       "\n",
       "    .dataframe thead th {\n",
       "        text-align: right;\n",
       "    }\n",
       "</style>\n",
       "<table border=\"1\" class=\"dataframe\">\n",
       "  <thead>\n",
       "    <tr style=\"text-align: right;\">\n",
       "      <th></th>\n",
       "      <th>NUTS_1</th>\n",
       "      <th>Code_1</th>\n",
       "      <th>NUTS_2</th>\n",
       "      <th>Code_2</th>\n",
       "      <th>NUTS_3</th>\n",
       "      <th>Code_3</th>\n",
       "      <th>NUTS_2_Link</th>\n",
       "      <th>NUTS_3_Link</th>\n",
       "      <th>NUTS_2_Images</th>\n",
       "      <th>NUTS_3_Images</th>\n",
       "    </tr>\n",
       "  </thead>\n",
       "  <tbody>\n",
       "    <tr>\n",
       "      <th>79</th>\n",
       "      <td>Northeast Italy</td>\n",
       "      <td>ITH</td>\n",
       "      <td>Friuli-Venezia Giulia</td>\n",
       "      <td>ITH4</td>\n",
       "      <td>Trieste</td>\n",
       "      <td>ITH44</td>\n",
       "      <td>https://en.wikipedia.org//wiki/File:Flag_of_Fr...</td>\n",
       "      <td>https://en.wikipedia.org//wiki/Province_of_Tri...</td>\n",
       "      <td>https://upload.wikimedia.org/wikipedia/commons...</td>\n",
       "      <td>NaN</td>\n",
       "    </tr>\n",
       "  </tbody>\n",
       "</table>\n",
       "</div>"
      ],
      "text/plain": [
       "             NUTS_1 Code_1                 NUTS_2 Code_2   NUTS_3 Code_3   \n",
       "79  Northeast Italy    ITH  Friuli-Venezia Giulia   ITH4  Trieste  ITH44  \\\n",
       "\n",
       "                                          NUTS_2_Link   \n",
       "79  https://en.wikipedia.org//wiki/File:Flag_of_Fr...  \\\n",
       "\n",
       "                                          NUTS_3_Link   \n",
       "79  https://en.wikipedia.org//wiki/Province_of_Tri...  \\\n",
       "\n",
       "                                        NUTS_2_Images NUTS_3_Images  \n",
       "79  https://upload.wikimedia.org/wikipedia/commons...           NaN  "
      ]
     },
     "execution_count": 14,
     "metadata": {},
     "output_type": "execute_result"
    }
   ],
   "source": [
    "df[df.isnull().any(axis = 1)]"
   ]
  },
  {
   "cell_type": "markdown",
   "id": "ceaecb4d-c1ae-4056-8a60-20e3a700df2e",
   "metadata": {},
   "source": [
    "## Saving to CSV file"
   ]
  },
  {
   "cell_type": "code",
   "execution_count": 15,
   "id": "d45fbb33-f033-4185-a9b7-680b8bbd442d",
   "metadata": {
    "tags": []
   },
   "outputs": [],
   "source": [
    "df.to_csv('NUTS_Code_RAW.csv', index = False)\n",
    "df[['NUTS_1', 'Code_1', 'NUTS_2', 'Code_2', 'NUTS_3', 'Code_3', 'NUTS_2_Images', 'NUTS_3_Images']].to_csv('NUTS_Code_Processed.csv', index = False)"
   ]
  },
  {
   "cell_type": "markdown",
   "id": "097b49ba-e22b-4667-994f-6b6c3d1e50cb",
   "metadata": {},
   "source": [
    "# Contributer info"
   ]
  },
  {
   "cell_type": "markdown",
   "id": "d7ae96fa-e2d2-46c6-acdb-9df09f238192",
   "metadata": {},
   "source": [
    "<p><strong>Jishnu S G</strong></p>\n",
    "\n",
    "<ul>\n",
    "  <li><p><a href = 'https://linkedin.com/in/jishnukoliyadan/'>Linkedin</a></p></li>\n",
    "  <li><p><a href = 'https://github.com/jishnukoliyadan'>GitHub</a></p></li>\n",
    "</ul>  \n",
    "\n",
    "<p>\n",
    "    <a href = 'https://www.buymeacoffee.com/jishnukoliyadan'>\n",
    "    <img src = 'https://www.buymeacoffee.com/assets/img/guidelines/download-assets-sm-1.svg' alt = 'https://www.buymeacoffee.com/jishnukoliyadan' width = 11%></a>\n",
    "</p>"
   ]
  }
 ],
 "metadata": {
  "kernelspec": {
   "display_name": "Python 3 (ipykernel)",
   "language": "python",
   "name": "python3"
  },
  "language_info": {
   "codemirror_mode": {
    "name": "ipython",
    "version": 3
   },
   "file_extension": ".py",
   "mimetype": "text/x-python",
   "name": "python",
   "nbconvert_exporter": "python",
   "pygments_lexer": "ipython3",
   "version": "3.9.7"
  }
 },
 "nbformat": 4,
 "nbformat_minor": 5
}
