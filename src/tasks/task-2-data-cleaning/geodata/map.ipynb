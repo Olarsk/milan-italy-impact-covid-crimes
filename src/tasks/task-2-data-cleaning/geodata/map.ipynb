{
 "cells": [
  {
   "attachments": {},
   "cell_type": "markdown",
   "metadata": {},
   "source": [
    "# Omdena Milan Covid19 and Crime"
   ]
  },
  {
   "attachments": {},
   "cell_type": "markdown",
   "metadata": {},
   "source": [
    "# Task 2 - Geodata"
   ]
  },
  {
   "attachments": {},
   "cell_type": "markdown",
   "metadata": {},
   "source": [
    "## Map of locations"
   ]
  },
  {
   "attachments": {},
   "cell_type": "markdown",
   "metadata": {},
   "source": [
    "Import dependencies"
   ]
  },
  {
   "cell_type": "code",
   "execution_count": 1,
   "metadata": {},
   "outputs": [],
   "source": [
    "import pandas as pd\n",
    "import geopandas as gpd\n",
    "import matplotlib.pyplot as plt\n",
    "import folium as flm\n",
    "\n",
    "pd.set_option('display.max_columns', None)"
   ]
  },
  {
   "attachments": {},
   "cell_type": "markdown",
   "metadata": {},
   "source": [
    "#### Load Data"
   ]
  },
  {
   "cell_type": "code",
   "execution_count": null,
   "metadata": {},
   "outputs": [],
   "source": []
  },
  {
   "cell_type": "code",
   "execution_count": null,
   "metadata": {},
   "outputs": [],
   "source": [
    "# Add map.\n",
    "def map_ph(data, name, prov):\n",
    "    cond = (\n",
    "        data['country'] == name\n",
    "            ) & (\n",
    "            data['province'] == prov\n",
    "                )\n",
    "\n",
    "    lat = data[cond]['latitude'].tolist()\n",
    "    lon = data[cond]['longitude'].tolist()\n",
    "    nam = data[cond]['city_municipality'].tolist()\n",
    "    vul_0 = data[cond]['vulnerability_dist'].tolist()\n",
    "    vul_1 = data[cond]['vulnerability_dweg'].tolist()\n",
    "    vul_2 = data[cond]['vulnerability_indu'].tolist()\n",
    "    vul_3 = data[cond]['vulnerability_heal'].tolist()\n",
    "    vul_4 = data[cond]['vulnerability_povt'].tolist()\n",
    "    pop = data[cond]['total_population'].tolist()\n",
    "    pov = data[cond]['pov_inc'].tolist()\n",
    "    hop = data[cond]['hospitals'].tolist()\n",
    "\n",
    "    html = f''' <div style=\"font-family: monospace;font-size: 1rem;\">\n",
    "    <h4 style=\"font-size:1.05rem;\">Vulnerability Info</h4>\n",
    "    <ul style=\"list-style-type: none;margin: 0;padding: 0;\">\n",
    "    <li>City/Town: </li>\n",
    "    <li> <b> %s</b></li>\n",
    "    <li><b>Vulnerability Levels:</b></li>\n",
    "    <li>Disaster: <b> %s</b></li>\n",
    "    <li>Economy: <b> %s</b></li>\n",
    "    <li>Industry: <b> %s</b></li>\n",
    "    <li>Health: <b> %s</b></li>\n",
    "    <li>Poverty: <b> %s</b></li>\n",
    "    <li>Population: <b> %s</b></li>\n",
    "    <li>Poverty: <b> %s</b></li>\n",
    "    <li>Hospitals: <b> %s</b></li>\n",
    "    </ul>  \n",
    "    </div>\n",
    "    '''\n",
    "\n",
    "    if lat and lon:\n",
    "        map = flm.Map(location=[lat[0], lon[0]], zoom_start=10, scrollWheelZoom=False)\n",
    "    else:\n",
    "        return None\n",
    "\n",
    "    fg = flm.FeatureGroup(name='Municipalities')\n",
    "\n",
    "    marker_props = {'Low': {'color': 'green', 'size': 10},\n",
    "                'Medium': {'color': 'blue', 'size': 10},\n",
    "                'High': {'color': 'red', 'size': 15}}\n",
    "\n",
    "    for lt, ln, nm, v0, v1, v2, v3, v4, po, pv, ho in zip((lat), (lon), (nam), (vul_0), (vul_1), (vul_2), (vul_3), (vul_4), (pop), (pov), (hop)):\n",
    "        iframe = flm.IFrame(html = html % ((nm), (v0), (v1), (v2), (v3), (v4), (po), (pv), (ho)), height = 290)\n",
    "        popup = flm.Popup(iframe, min_width=200, max_width=650)\n",
    "        props = marker_props[v0]\n",
    "        marker = flm.CircleMarker(location = [lt, ln], popup = popup, fill_color=props['color'], color='None', radius=props['size'], fill_opacity = 0.5)\n",
    "        fg.add_child(marker)\n",
    "        map.add_child(fg)\n",
    "\n",
    "    flm.LayerControl(collapsed=False).add_to(map)\n",
    "\n",
    "    st_map_ph = st_folium(map, width='width', returned_objects=['last_object_clicked'])\n",
    "    return st_map_ph"
   ]
  }
 ],
 "metadata": {
  "kernelspec": {
   "display_name": "stream_geo",
   "language": "python",
   "name": "python3"
  },
  "language_info": {
   "codemirror_mode": {
    "name": "ipython",
    "version": 3
   },
   "file_extension": ".py",
   "mimetype": "text/x-python",
   "name": "python",
   "nbconvert_exporter": "python",
   "pygments_lexer": "ipython3",
   "version": "3.11.0"
  },
  "orig_nbformat": 4
 },
 "nbformat": 4,
 "nbformat_minor": 2
}
